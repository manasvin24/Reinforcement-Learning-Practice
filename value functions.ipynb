{
 "cells": [
  {
   "cell_type": "code",
   "execution_count": 1,
   "id": "60abe244",
   "metadata": {},
   "outputs": [],
   "source": [
    "import numpy as np\n",
    "import matplotlib.pyplot as plt"
   ]
  },
  {
   "cell_type": "code",
   "execution_count": 4,
   "id": "b03697fb",
   "metadata": {},
   "outputs": [],
   "source": [
    "#grid environment\n",
    "grid_size = 4\n",
    "states = [(i, j) for i in range(grid_size) for j in range(grid_size)]\n",
    "actions = ['UP', 'DOWN', 'LEFT', 'RIGHT']\n",
    "actions_dict = {'UP':(-1,0),'DOWN':(1,0),'LEFT':(0,-1),'RIGHT':(0,1)}\n",
    "gamma = 1\n",
    "theta = 1e-4"
   ]
  },
  {
   "cell_type": "code",
   "execution_count": 6,
   "id": "53b2afc9",
   "metadata": {},
   "outputs": [],
   "source": [
    "def reward(state):\n",
    "    if state == (3,3):\n",
    "        return 0\n",
    "    else:\n",
    "        return -1"
   ]
  },
  {
   "cell_type": "code",
   "execution_count": 12,
   "id": "4abb526d",
   "metadata": {},
   "outputs": [],
   "source": [
    "def is_valid_pos(state):\n",
    "    if (state[0]>=0 and state[0]<=3) and (state[1]>=0 and state[1]<=3):\n",
    "        return True\n",
    "    else:\n",
    "        return False"
   ]
  },
  {
   "cell_type": "code",
   "execution_count": null,
   "id": "7970d526",
   "metadata": {},
   "outputs": [],
   "source": []
  }
 ],
 "metadata": {
  "kernelspec": {
   "display_name": "Python 3 (ipykernel)",
   "language": "python",
   "name": "python3"
  },
  "language_info": {
   "codemirror_mode": {
    "name": "ipython",
    "version": 3
   },
   "file_extension": ".py",
   "mimetype": "text/x-python",
   "name": "python",
   "nbconvert_exporter": "python",
   "pygments_lexer": "ipython3",
   "version": "3.10.9"
  }
 },
 "nbformat": 4,
 "nbformat_minor": 5
}
